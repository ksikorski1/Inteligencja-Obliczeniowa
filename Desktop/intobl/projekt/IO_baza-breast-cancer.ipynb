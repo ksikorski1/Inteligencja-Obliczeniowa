{
 "cells": [
  {
   "cell_type": "markdown",
   "metadata": {},
   "source": [
    "# Inteligencja Obliczeniowa - Projekt\n",
    "## Temat: Zgłębianie danych na przykładzie wybranej bazy danych\n",
    "### Jakub Sikorski"
   ]
  },
  {
   "cell_type": "markdown",
   "metadata": {},
   "source": [
    "\n",
    "# Wstęp\n",
    "\n",
    "W tym projekcie zastosuję kilka metod (m.in drzewa decyzyjne, klasyfikacje k najbliższych sąsiadów i naiwną bayesowską) do zgłębiania bazy danych. Za bazę danych posłuży mi baza \"Breast Cancer Wisconsin\" (4b),\n",
    "czyli baza dotycząca raka piersi (już zdiagnozowanego) w Wisconsin.\n",
    "\n",
    "Projekt ten służy głównie do nauczenia się korzystania z bibliotek dostępnych w Pythonie. Biblioteki, które były mi potrzebne przy tym projekcie to:\n",
    "1. pandas - do wczytania i manipulacji danych,\n",
    "2. scikit-learn - potrzebna do przeprowadzenia klasyfikacji i zmierzenia ich dokładności, a także do podziału danych na dane treningowe i testowe.\n"
   ]
  },
  {
   "cell_type": "code",
   "execution_count": 1,
   "metadata": {},
   "outputs": [],
   "source": [
    "import pandas as pd\n",
    "\n",
    "from sklearn.model_selection import train_test_split\n",
    "from sklearn import metrics\n",
    "\n",
    "from sklearn.tree import DecisionTreeClassifier\n",
    "from sklearn.tree import export_graphviz\n",
    "import graphviz\n",
    "\n",
    "from sklearn.neighbors import KNeighborsClassifier\n",
    "from sklearn.naive_bayes import GaussianNB"
   ]
  },
  {
   "cell_type": "markdown",
   "metadata": {},
   "source": [
    "# Dane\n",
    "\n",
    "Baza danych \"Breast Cancer Wisconsin\" jest bazą danych publicznie [dostępną](https://archive.ics.uci.edu/ml/datasets/breast+cancer+wisconsin+(original) ). Składa się ona z 699 rekordów i 11 atrybutów. W bazie danych znajdują się też brakujące dane.\n",
    "\n",
    "Kolumny opisują następująco:\n",
    "1. Numer ID próbki\n",
    "2. Clump Thickness: 1 - 10, czyli grubość \"grudki\"\n",
    "3. Uniformity of Cell Size: 1 - 10, czyli jednorodność wielkości komórek w próbce\n",
    "4. Uniformity of Cell Shape: 1 - 10, czyli jednorodność kształtu komórek w próbce\n",
    "5. Marginal Adhesion: 1 - 10, mówi o tym ile komórek poza tkanką nabłonkową się ze sobą skleja\n",
    "6. Single Epithelial Cell Size: 1 - 10, wielkość pojedynczych komórek nabłonka\n",
    "7. Bare Nuclei: 1 - 10, proporcja komórek nie otoczonych cytoplazma w stosunku do tych otoczonych\n",
    "8. Bland Chromatin: 1 - 10, mówi o strukturze (budowie) jądra\n",
    "9. Normal Nucleoli: 1 - 10, mówi o wielkości jąderka\n",
    "10. Mitoses: 1 - 10, mówi o aktywności mitotycznej\n",
    "11. Class: (2 for benign, 4 for malignant) klasyfikuje czy jest to nowotwór łagodny czy złośliwy"
   ]
  },
  {
   "cell_type": "code",
   "execution_count": 2,
   "metadata": {},
   "outputs": [],
   "source": [
    "missing_values = [\"n/a\", \"na\", \"--\", \"?\", \"NaN\"]\n",
    "df = pd.read_csv('breast-cancer-wisconsin.data', na_values=missing_values)\n",
    "df_changed = df"
   ]
  },
  {
   "cell_type": "markdown",
   "metadata": {},
   "source": [
    "### Przykładowe dane wyglądają następująco:"
   ]
  },
  {
   "cell_type": "code",
   "execution_count": 3,
   "metadata": {},
   "outputs": [
    {
     "data": {
      "text/html": [
       "<div>\n",
       "<style scoped>\n",
       "    .dataframe tbody tr th:only-of-type {\n",
       "        vertical-align: middle;\n",
       "    }\n",
       "\n",
       "    .dataframe tbody tr th {\n",
       "        vertical-align: top;\n",
       "    }\n",
       "\n",
       "    .dataframe thead th {\n",
       "        text-align: right;\n",
       "    }\n",
       "</style>\n",
       "<table border=\"1\" class=\"dataframe\">\n",
       "  <thead>\n",
       "    <tr style=\"text-align: right;\">\n",
       "      <th></th>\n",
       "      <th>id</th>\n",
       "      <th>clump-thickness</th>\n",
       "      <th>uniformity-of-cell-size</th>\n",
       "      <th>uniformity-of-cell-shape</th>\n",
       "      <th>marginal-adhesion</th>\n",
       "      <th>single-epithelial-cell-size</th>\n",
       "      <th>bare-nuclei</th>\n",
       "      <th>bland-chromatin</th>\n",
       "      <th>normal-nucleoli</th>\n",
       "      <th>mitoses</th>\n",
       "      <th>class</th>\n",
       "    </tr>\n",
       "  </thead>\n",
       "  <tbody>\n",
       "    <tr>\n",
       "      <th>0</th>\n",
       "      <td>1000025</td>\n",
       "      <td>5</td>\n",
       "      <td>1</td>\n",
       "      <td>1</td>\n",
       "      <td>1</td>\n",
       "      <td>2</td>\n",
       "      <td>1.0</td>\n",
       "      <td>3</td>\n",
       "      <td>1</td>\n",
       "      <td>1</td>\n",
       "      <td>2</td>\n",
       "    </tr>\n",
       "    <tr>\n",
       "      <th>1</th>\n",
       "      <td>1002945</td>\n",
       "      <td>5</td>\n",
       "      <td>4</td>\n",
       "      <td>4</td>\n",
       "      <td>5</td>\n",
       "      <td>7</td>\n",
       "      <td>10.0</td>\n",
       "      <td>3</td>\n",
       "      <td>2</td>\n",
       "      <td>1</td>\n",
       "      <td>2</td>\n",
       "    </tr>\n",
       "    <tr>\n",
       "      <th>2</th>\n",
       "      <td>1015425</td>\n",
       "      <td>3</td>\n",
       "      <td>1</td>\n",
       "      <td>1</td>\n",
       "      <td>1</td>\n",
       "      <td>2</td>\n",
       "      <td>2.0</td>\n",
       "      <td>3</td>\n",
       "      <td>1</td>\n",
       "      <td>1</td>\n",
       "      <td>2</td>\n",
       "    </tr>\n",
       "    <tr>\n",
       "      <th>3</th>\n",
       "      <td>1016277</td>\n",
       "      <td>6</td>\n",
       "      <td>8</td>\n",
       "      <td>8</td>\n",
       "      <td>1</td>\n",
       "      <td>3</td>\n",
       "      <td>4.0</td>\n",
       "      <td>3</td>\n",
       "      <td>7</td>\n",
       "      <td>1</td>\n",
       "      <td>2</td>\n",
       "    </tr>\n",
       "    <tr>\n",
       "      <th>4</th>\n",
       "      <td>1017023</td>\n",
       "      <td>4</td>\n",
       "      <td>1</td>\n",
       "      <td>1</td>\n",
       "      <td>3</td>\n",
       "      <td>2</td>\n",
       "      <td>1.0</td>\n",
       "      <td>3</td>\n",
       "      <td>1</td>\n",
       "      <td>1</td>\n",
       "      <td>2</td>\n",
       "    </tr>\n",
       "    <tr>\n",
       "      <th>5</th>\n",
       "      <td>1017122</td>\n",
       "      <td>8</td>\n",
       "      <td>10</td>\n",
       "      <td>10</td>\n",
       "      <td>8</td>\n",
       "      <td>7</td>\n",
       "      <td>10.0</td>\n",
       "      <td>9</td>\n",
       "      <td>7</td>\n",
       "      <td>1</td>\n",
       "      <td>4</td>\n",
       "    </tr>\n",
       "  </tbody>\n",
       "</table>\n",
       "</div>"
      ],
      "text/plain": [
       "        id  clump-thickness  uniformity-of-cell-size  \\\n",
       "0  1000025                5                        1   \n",
       "1  1002945                5                        4   \n",
       "2  1015425                3                        1   \n",
       "3  1016277                6                        8   \n",
       "4  1017023                4                        1   \n",
       "5  1017122                8                       10   \n",
       "\n",
       "   uniformity-of-cell-shape  marginal-adhesion  single-epithelial-cell-size  \\\n",
       "0                         1                  1                            2   \n",
       "1                         4                  5                            7   \n",
       "2                         1                  1                            2   \n",
       "3                         8                  1                            3   \n",
       "4                         1                  3                            2   \n",
       "5                        10                  8                            7   \n",
       "\n",
       "   bare-nuclei  bland-chromatin  normal-nucleoli  mitoses  class  \n",
       "0          1.0                3                1        1      2  \n",
       "1         10.0                3                2        1      2  \n",
       "2          2.0                3                1        1      2  \n",
       "3          4.0                3                7        1      2  \n",
       "4          1.0                3                1        1      2  \n",
       "5         10.0                9                7        1      4  "
      ]
     },
     "execution_count": 3,
     "metadata": {},
     "output_type": "execute_result"
    }
   ],
   "source": [
    "df.head(6)"
   ]
  },
  {
   "cell_type": "markdown",
   "metadata": {},
   "source": [
    "Pierwszą rzeczą, którą postanowiłem zmienic to zamienić kolumnę \"class\" na 0 (łagodny) i 1 (złośliwy)"
   ]
  },
  {
   "cell_type": "code",
   "execution_count": 4,
   "metadata": {},
   "outputs": [],
   "source": [
    "for index, row in enumerate(df_changed['class']):\n",
    "    if row == 2:\n",
    "        df_changed.at[index, 'class'] = 0\n",
    "    if row == 4:\n",
    "        df_changed.at[index, 'class'] = 1"
   ]
  },
  {
   "cell_type": "markdown",
   "metadata": {},
   "source": [
    "Po zamianie \"klasy\" nowotworu następnym krokiem była zmiana lub usunięcie brakujących danych. W oryginalnych danych brak wartości był oznaczany przez \"?\", po przepisaniu do nowej zmiennej było to NaN.\n",
    "\n",
    "Łącznie takich pól, które nie miały wartości było 16 i wszystkie znajdowały się w kolumnie \"bare-nuclei\". Wszystkie kolumny (oprócz id i typu) mogą przyjmować wartości od 1 do 10 i należy je rozumieć jako skalę, np. dla kolumny _mitoses_: 1 - prawie brak aktywności mitotycznej, 10 - bardzo duża aktywność mitotyczna.\n",
    "\n",
    "W związku z tym nie mogłem uzupełnić danych ani przez medianę ani przez średnią, więc rekordy z brakującymi danymi usunąłem z danych."
   ]
  },
  {
   "cell_type": "code",
   "execution_count": 5,
   "metadata": {},
   "outputs": [
    {
     "data": {
      "text/plain": [
       "id                             1057013.0\n",
       "clump-thickness                      8.0\n",
       "uniformity-of-cell-size              4.0\n",
       "uniformity-of-cell-shape             5.0\n",
       "marginal-adhesion                    1.0\n",
       "single-epithelial-cell-size          2.0\n",
       "bare-nuclei                          NaN\n",
       "bland-chromatin                      7.0\n",
       "normal-nucleoli                      3.0\n",
       "mitoses                              1.0\n",
       "class                                1.0\n",
       "Name: 23, dtype: float64"
      ]
     },
     "execution_count": 5,
     "metadata": {},
     "output_type": "execute_result"
    }
   ],
   "source": [
    "df_changed.iloc[23]"
   ]
  },
  {
   "cell_type": "code",
   "execution_count": 6,
   "metadata": {},
   "outputs": [
    {
     "name": "stdout",
     "output_type": "stream",
     "text": [
      "id                              0\n",
      "clump-thickness                 0\n",
      "uniformity-of-cell-size         0\n",
      "uniformity-of-cell-shape        0\n",
      "marginal-adhesion               0\n",
      "single-epithelial-cell-size     0\n",
      "bare-nuclei                    16\n",
      "bland-chromatin                 0\n",
      "normal-nucleoli                 0\n",
      "mitoses                         0\n",
      "class                           0\n",
      "dtype: int64\n"
     ]
    }
   ],
   "source": [
    "print (df_changed.isnull().sum())"
   ]
  },
  {
   "cell_type": "code",
   "execution_count": 7,
   "metadata": {},
   "outputs": [],
   "source": [
    "df_changed = df_changed.dropna()"
   ]
  },
  {
   "cell_type": "code",
   "execution_count": 8,
   "metadata": {},
   "outputs": [
    {
     "name": "stdout",
     "output_type": "stream",
     "text": [
      "id                             0\n",
      "clump-thickness                0\n",
      "uniformity-of-cell-size        0\n",
      "uniformity-of-cell-shape       0\n",
      "marginal-adhesion              0\n",
      "single-epithelial-cell-size    0\n",
      "bare-nuclei                    0\n",
      "bland-chromatin                0\n",
      "normal-nucleoli                0\n",
      "mitoses                        0\n",
      "class                          0\n",
      "dtype: int64\n"
     ]
    }
   ],
   "source": [
    "print(df_changed.isnull().sum())"
   ]
  },
  {
   "cell_type": "code",
   "execution_count": 9,
   "metadata": {},
   "outputs": [],
   "source": [
    "df_changed.to_csv('breast-cancer-wyczyszczone.csv', index=False)"
   ]
  },
  {
   "cell_type": "code",
   "execution_count": 10,
   "metadata": {},
   "outputs": [],
   "source": [
    "breast_cancer = pd.read_csv('breast-cancer-wyczyszczone.csv')"
   ]
  },
  {
   "cell_type": "code",
   "execution_count": 11,
   "metadata": {},
   "outputs": [
    {
     "data": {
      "text/html": [
       "<div>\n",
       "<style scoped>\n",
       "    .dataframe tbody tr th:only-of-type {\n",
       "        vertical-align: middle;\n",
       "    }\n",
       "\n",
       "    .dataframe tbody tr th {\n",
       "        vertical-align: top;\n",
       "    }\n",
       "\n",
       "    .dataframe thead th {\n",
       "        text-align: right;\n",
       "    }\n",
       "</style>\n",
       "<table border=\"1\" class=\"dataframe\">\n",
       "  <thead>\n",
       "    <tr style=\"text-align: right;\">\n",
       "      <th></th>\n",
       "      <th>id</th>\n",
       "      <th>clump-thickness</th>\n",
       "      <th>uniformity-of-cell-size</th>\n",
       "      <th>uniformity-of-cell-shape</th>\n",
       "      <th>marginal-adhesion</th>\n",
       "      <th>single-epithelial-cell-size</th>\n",
       "      <th>bare-nuclei</th>\n",
       "      <th>bland-chromatin</th>\n",
       "      <th>normal-nucleoli</th>\n",
       "      <th>mitoses</th>\n",
       "      <th>class</th>\n",
       "    </tr>\n",
       "  </thead>\n",
       "  <tbody>\n",
       "    <tr>\n",
       "      <th>count</th>\n",
       "      <td>6.830000e+02</td>\n",
       "      <td>683.000000</td>\n",
       "      <td>683.000000</td>\n",
       "      <td>683.000000</td>\n",
       "      <td>683.000000</td>\n",
       "      <td>683.000000</td>\n",
       "      <td>683.000000</td>\n",
       "      <td>683.000000</td>\n",
       "      <td>683.000000</td>\n",
       "      <td>683.000000</td>\n",
       "      <td>683.000000</td>\n",
       "    </tr>\n",
       "    <tr>\n",
       "      <th>mean</th>\n",
       "      <td>1.076720e+06</td>\n",
       "      <td>4.442167</td>\n",
       "      <td>3.150805</td>\n",
       "      <td>3.215227</td>\n",
       "      <td>2.830161</td>\n",
       "      <td>3.234261</td>\n",
       "      <td>3.544656</td>\n",
       "      <td>3.445095</td>\n",
       "      <td>2.869693</td>\n",
       "      <td>1.603221</td>\n",
       "      <td>0.349927</td>\n",
       "    </tr>\n",
       "    <tr>\n",
       "      <th>std</th>\n",
       "      <td>6.206440e+05</td>\n",
       "      <td>2.820761</td>\n",
       "      <td>3.065145</td>\n",
       "      <td>2.988581</td>\n",
       "      <td>2.864562</td>\n",
       "      <td>2.223085</td>\n",
       "      <td>3.643857</td>\n",
       "      <td>2.449697</td>\n",
       "      <td>3.052666</td>\n",
       "      <td>1.732674</td>\n",
       "      <td>0.477296</td>\n",
       "    </tr>\n",
       "    <tr>\n",
       "      <th>min</th>\n",
       "      <td>6.337500e+04</td>\n",
       "      <td>1.000000</td>\n",
       "      <td>1.000000</td>\n",
       "      <td>1.000000</td>\n",
       "      <td>1.000000</td>\n",
       "      <td>1.000000</td>\n",
       "      <td>1.000000</td>\n",
       "      <td>1.000000</td>\n",
       "      <td>1.000000</td>\n",
       "      <td>1.000000</td>\n",
       "      <td>0.000000</td>\n",
       "    </tr>\n",
       "    <tr>\n",
       "      <th>25%</th>\n",
       "      <td>8.776170e+05</td>\n",
       "      <td>2.000000</td>\n",
       "      <td>1.000000</td>\n",
       "      <td>1.000000</td>\n",
       "      <td>1.000000</td>\n",
       "      <td>2.000000</td>\n",
       "      <td>1.000000</td>\n",
       "      <td>2.000000</td>\n",
       "      <td>1.000000</td>\n",
       "      <td>1.000000</td>\n",
       "      <td>0.000000</td>\n",
       "    </tr>\n",
       "    <tr>\n",
       "      <th>50%</th>\n",
       "      <td>1.171795e+06</td>\n",
       "      <td>4.000000</td>\n",
       "      <td>1.000000</td>\n",
       "      <td>1.000000</td>\n",
       "      <td>1.000000</td>\n",
       "      <td>2.000000</td>\n",
       "      <td>1.000000</td>\n",
       "      <td>3.000000</td>\n",
       "      <td>1.000000</td>\n",
       "      <td>1.000000</td>\n",
       "      <td>0.000000</td>\n",
       "    </tr>\n",
       "    <tr>\n",
       "      <th>75%</th>\n",
       "      <td>1.238705e+06</td>\n",
       "      <td>6.000000</td>\n",
       "      <td>5.000000</td>\n",
       "      <td>5.000000</td>\n",
       "      <td>4.000000</td>\n",
       "      <td>4.000000</td>\n",
       "      <td>6.000000</td>\n",
       "      <td>5.000000</td>\n",
       "      <td>4.000000</td>\n",
       "      <td>1.000000</td>\n",
       "      <td>1.000000</td>\n",
       "    </tr>\n",
       "    <tr>\n",
       "      <th>max</th>\n",
       "      <td>1.345435e+07</td>\n",
       "      <td>10.000000</td>\n",
       "      <td>10.000000</td>\n",
       "      <td>10.000000</td>\n",
       "      <td>10.000000</td>\n",
       "      <td>10.000000</td>\n",
       "      <td>10.000000</td>\n",
       "      <td>10.000000</td>\n",
       "      <td>10.000000</td>\n",
       "      <td>10.000000</td>\n",
       "      <td>1.000000</td>\n",
       "    </tr>\n",
       "  </tbody>\n",
       "</table>\n",
       "</div>"
      ],
      "text/plain": [
       "                 id  clump-thickness  uniformity-of-cell-size  \\\n",
       "count  6.830000e+02       683.000000               683.000000   \n",
       "mean   1.076720e+06         4.442167                 3.150805   \n",
       "std    6.206440e+05         2.820761                 3.065145   \n",
       "min    6.337500e+04         1.000000                 1.000000   \n",
       "25%    8.776170e+05         2.000000                 1.000000   \n",
       "50%    1.171795e+06         4.000000                 1.000000   \n",
       "75%    1.238705e+06         6.000000                 5.000000   \n",
       "max    1.345435e+07        10.000000                10.000000   \n",
       "\n",
       "       uniformity-of-cell-shape  marginal-adhesion  \\\n",
       "count                683.000000         683.000000   \n",
       "mean                   3.215227           2.830161   \n",
       "std                    2.988581           2.864562   \n",
       "min                    1.000000           1.000000   \n",
       "25%                    1.000000           1.000000   \n",
       "50%                    1.000000           1.000000   \n",
       "75%                    5.000000           4.000000   \n",
       "max                   10.000000          10.000000   \n",
       "\n",
       "       single-epithelial-cell-size  bare-nuclei  bland-chromatin  \\\n",
       "count                   683.000000   683.000000       683.000000   \n",
       "mean                      3.234261     3.544656         3.445095   \n",
       "std                       2.223085     3.643857         2.449697   \n",
       "min                       1.000000     1.000000         1.000000   \n",
       "25%                       2.000000     1.000000         2.000000   \n",
       "50%                       2.000000     1.000000         3.000000   \n",
       "75%                       4.000000     6.000000         5.000000   \n",
       "max                      10.000000    10.000000        10.000000   \n",
       "\n",
       "       normal-nucleoli     mitoses       class  \n",
       "count       683.000000  683.000000  683.000000  \n",
       "mean          2.869693    1.603221    0.349927  \n",
       "std           3.052666    1.732674    0.477296  \n",
       "min           1.000000    1.000000    0.000000  \n",
       "25%           1.000000    1.000000    0.000000  \n",
       "50%           1.000000    1.000000    0.000000  \n",
       "75%           4.000000    1.000000    1.000000  \n",
       "max          10.000000   10.000000    1.000000  "
      ]
     },
     "execution_count": 11,
     "metadata": {},
     "output_type": "execute_result"
    }
   ],
   "source": [
    "breast_cancer.describe()"
   ]
  },
  {
   "cell_type": "markdown",
   "metadata": {},
   "source": [
    "### Po wyczyszczeniu danych podzieliłem je losowo na dane treningowe (70%) i dane testowe (30%).\n",
    "\n",
    "Następnie przystąpiłem do klasyfikacji przy użyciu drzew decyzyjnych."
   ]
  },
  {
   "cell_type": "code",
   "execution_count": 12,
   "metadata": {},
   "outputs": [],
   "source": [
    "X = breast_cancer.values[:, 1:10]\n",
    "Y = breast_cancer.values[:,-1]\n",
    "\n",
    "(X_train, X_test, Y_train, Y_test) = train_test_split(X, Y, train_size=0.7, test_size = 0.3, random_state=1)"
   ]
  },
  {
   "cell_type": "markdown",
   "metadata": {},
   "source": [
    "## Drzewa decyzyjne\n",
    "\n",
    "Drzewa decyzyjne są graficzną metodą wspomagania procesu decyzyjnego. Jest to jedna z\n",
    "najczęściej wykorzystywanych technik analizy danych. Drzewo składają się z korzenia oraz\n",
    "gałęzi prowadzących z korzenia do kolejnych wierzchołków. Wierzchołki, z których wychodzi\n",
    "co najmniej jedna krawędź, są nazywane węzłami, a pozostałe wierzchołki – liśćmi. W\n",
    "każdym węźle sprawdzany jest pewien warunek dotyczący danej obserwacji, i na jego\n",
    "podstawie wybierana jest jedną z gałęzi prowadząca do kolejnego wierzchołka. Klasyfikacja\n",
    "danej obserwacji polega na przejściu od korzenia do liścia i przypisaniu do tej obserwacji\n",
    "klasy zapisanej w danym liściu. [źródło](http://home.agh.edu.pl/~pmarynow/pliki/iwmet/drzewa.pdf)\n",
    "\n",
    "\n",
    "Dokładnośc drzewa decyzyjnego przedstawiona na macierzy błędu. (wyjaśnienie i porównanie poźniej)"
   ]
  },
  {
   "cell_type": "code",
   "execution_count": 13,
   "metadata": {},
   "outputs": [
    {
     "name": "stdout",
     "output_type": "stream",
     "text": [
      "\n",
      " [[129   4]\n",
      " [  4  68]]\n"
     ]
    }
   ],
   "source": [
    "dtc = DecisionTreeClassifier()\n",
    "y_test = dtc.fit(X_train, Y_train)\n",
    "y_pred = dtc.predict(X_test)\n",
    "\n",
    "print('\\n',metrics.confusion_matrix(Y_test, y_pred))\n",
    "\n",
    "dot_data = export_graphviz(dtc, out_file=None) \n",
    "graph = graphviz.Source(dot_data)\n",
    "#graph"
   ]
  },
  {
   "cell_type": "markdown",
   "metadata": {},
   "source": [
    "## Klasyfikator k najbliższych sąsiadów\n",
    "\n",
    "Dla klasyfikatora tego ustalamy k (czyli ilość \"sąsiadów\"), np. k = 2. Następnie dla każdego rekordu, który chcemy sklasyfikować wyszukujemy 3 najbardziej podobne(w tym projekcie jest to przez metrykę euklidesową) rekordy. Rekord który chcemy sklasyfikować przyjmuje taką klasę jak większość z wybranych, podobnych, rekordów. [źródło - zajęcia]\n",
    "\n",
    "Porównam tu ze sobą klasyfikatory kNN, k = 3 i kNN, k = 10, aby sprawdzić czy większa ilość sąsiadów wpłynie na dokładność."
   ]
  },
  {
   "cell_type": "code",
   "execution_count": 14,
   "metadata": {},
   "outputs": [
    {
     "name": "stdout",
     "output_type": "stream",
     "text": [
      "\n",
      "kNN-3\n",
      " [[128   5]\n",
      " [  2  70]]\n",
      "\n",
      "kNN-10\n",
      " [[129   4]\n",
      " [  3  69]]\n"
     ]
    }
   ],
   "source": [
    "knn3 = KNeighborsClassifier(n_neighbors=3, metric='euclidean')\n",
    "knn3.fit(X_train, Y_train)\n",
    "y_pred3 = knn3.predict(X_test)\n",
    "print(\"\\nkNN-3\\n\",metrics.confusion_matrix(Y_test, y_pred3))\n",
    "\n",
    "knn10 = KNeighborsClassifier(n_neighbors=10, metric='euclidean')\n",
    "knn10.fit(X_train, Y_train)\n",
    "y_pred10 = knn10.predict(X_test)\n",
    "print(\"\\nkNN-10\\n\", metrics.confusion_matrix(Y_test, y_pred10))"
   ]
  },
  {
   "cell_type": "markdown",
   "metadata": {},
   "source": [
    "## Naiwny klasyfikator bayesowski\n",
    "\n",
    "Klasyfikator naiwny bayesowski (Naive Bayes) to klasyfikator probabilistyczny.\n",
    "Bierzemy wartość pierwszej danej z badanego rekordu, następnie sprawdzamy czy\n",
    "inne rekordy z tą samą wartością „siedziały” w jednej klasie, czy drugiej. Robimy tak dla\n",
    "wszystkich kolejnych wartości. Następnie wykorzystując wzór Bayesa na\n",
    "prawdopodobieństwo warunkowe oraz zakładając, że dane z kolumn są niezależne\n",
    "(stąd naiwność) szacujemy, w której klasie najprawdopodobniej znajduje się nasz rekord. [źródło - zajęcia]"
   ]
  },
  {
   "cell_type": "code",
   "execution_count": 15,
   "metadata": {},
   "outputs": [
    {
     "name": "stdout",
     "output_type": "stream",
     "text": [
      "\n",
      "Bayes\n",
      " [[127   6]\n",
      " [  0  72]]\n"
     ]
    }
   ],
   "source": [
    "model = GaussianNB()\n",
    "model.fit(X_train, Y_train)\n",
    "pred_bayes = model.predict(X_test)\n",
    "#kolumny to wartosci przewidziane, wiersze to wartosci faktyczne\n",
    "print(\"\\nBayes\\n\",metrics.confusion_matrix(Y_test, pred_bayes))"
   ]
  },
  {
   "cell_type": "code",
   "execution_count": 16,
   "metadata": {},
   "outputs": [
    {
     "name": "stdout",
     "output_type": "stream",
     "text": [
      "\n",
      "Dokładność kNN-3: 0.9658536585365853\n",
      "Dokładność kNN-10: 0.9658536585365853\n",
      "Dokładność Bayes: 0.9707317073170731\n",
      "Dokładność drzewa decyzyjne: 0.9609756097560975\n"
     ]
    }
   ],
   "source": [
    "score_knn3 = metrics.accuracy_score(Y_test, y_pred3)\n",
    "score_knn10 = metrics.accuracy_score(Y_test, y_pred10)\n",
    "score_bayes = metrics.accuracy_score(Y_test, pred_bayes)\n",
    "score_tree = metrics.accuracy_score(Y_test, y_pred)\n",
    "\n",
    "scores = [score_knn3*100, score_knn10*100, score_bayes*100, score_tree*100]\n",
    "\n",
    "print(\"\\nDokładność kNN-3:\", score_knn3)\n",
    "print(\"Dokładność kNN-10:\", score_knn10)\n",
    "print(\"Dokładność Bayes:\", score_bayes)\n",
    "print(\"Dokładność drzewa decyzyjne:\", score_tree)"
   ]
  },
  {
   "cell_type": "markdown",
   "metadata": {},
   "source": [
    "# Wyniki\n",
    "\n",
    "Dla wszystkich klasyfikatorów dokładność wyszła bardzo wysoka, powyżej 95%. Oznacza to tyle, że z dostarczonych w tej bazie danych można z dość sporą pewnością określić czy nowotwór jest łagodny czy złośliwy."
   ]
  },
  {
   "cell_type": "code",
   "execution_count": 17,
   "metadata": {},
   "outputs": [
    {
     "name": "stdout",
     "output_type": "stream",
     "text": [
      "\n",
      "Bayes\n",
      " pred  0.0  1.0\n",
      "test          \n",
      "0.0   127    6\n",
      "1.0     0   72\n"
     ]
    }
   ],
   "source": [
    "print(\"\\nBayes\\n\",pd.crosstab(Y_test, pred_bayes, rownames=[\"test\"] ,colnames=[\"pred\"]))"
   ]
  },
  {
   "cell_type": "markdown",
   "metadata": {},
   "source": [
    "Jeden z klasyfikatorów się jednak wyróżnia. W przypadku naiwnego klasyfikatora bayesowkiego, analizując macierz błędu nie ma ani jednego przypadku, w którym przewidziana wartość to guz łagodny (0), gdy w rzeczywistości jest on złośliwy (1) (False Negative).\n",
    "\n",
    "Porównując klasyfikatory k najbliższych sąsiadów, w przypadku wyznaczenia k=10 popełnił on 1 (FP) błąd mniej niż przy k=3. Oba jednak mają bardzo wysoką dokładność."
   ]
  },
  {
   "cell_type": "code",
   "execution_count": null,
   "metadata": {},
   "outputs": [],
   "source": []
  }
 ],
 "metadata": {
  "kernelspec": {
   "display_name": "Python 3",
   "language": "python",
   "name": "python3"
  },
  "language_info": {
   "codemirror_mode": {
    "name": "ipython",
    "version": 3
   },
   "file_extension": ".py",
   "mimetype": "text/x-python",
   "name": "python",
   "nbconvert_exporter": "python",
   "pygments_lexer": "ipython3",
   "version": "3.7.0"
  }
 },
 "nbformat": 4,
 "nbformat_minor": 2
}
